{
 "cells": [
  {
   "cell_type": "markdown",
   "metadata": {},
   "source": [
    "# WeatherPy\n",
    "----\n",
    "\n",
    "#### Note\n",
    "* Instructions have been included for each segment. You do not have to follow them exactly, but they are included to help you think through the steps."
   ]
  },
  {
   "cell_type": "code",
   "execution_count": 1,
   "metadata": {
    "scrolled": true
   },
   "outputs": [],
   "source": [
    "# Dependencies and Setup\n",
    "import matplotlib.pyplot as plt\n",
    "import pandas as pd\n",
    "import numpy as np\n",
    "import requests\n",
    "import time\n",
    "from scipy.stats import linregress\n",
    "\n",
    "# Import API key\n",
    "from api_keys import weather_api_key\n",
    "\n",
    "# Incorporated citipy to determine city based on latitude and longitude\n",
    "from citipy import citipy\n",
    "\n",
    "# Output File (CSV)\n",
    "output_data_file = \"output_data/cities.csv\"\n",
    "\n",
    "# Range of latitudes and longitudes\n",
    "lat_range = (-90, 90)\n",
    "lng_range = (-180, 180)"
   ]
  },
  {
   "cell_type": "markdown",
   "metadata": {},
   "source": [
    "## Generate Cities List"
   ]
  },
  {
   "cell_type": "code",
   "execution_count": 2,
   "metadata": {},
   "outputs": [
    {
     "data": {
      "text/plain": [
       "647"
      ]
     },
     "execution_count": 2,
     "metadata": {},
     "output_type": "execute_result"
    }
   ],
   "source": [
    "# List for holding lat_lngs and cities\n",
    "lat_lngs = []\n",
    "cities = []\n",
    "\n",
    "# Create a set of random lat and lng combinations\n",
    "lats = np.random.uniform(lat_range[0], lat_range[1], size=1500)\n",
    "lngs = np.random.uniform(lng_range[0], lng_range[1], size=1500)\n",
    "lat_lngs = zip(lats, lngs)\n",
    "\n",
    "# Identify nearest city for each lat, lng combination\n",
    "for lat_lng in lat_lngs:\n",
    "    city = citipy.nearest_city(lat_lng[0], lat_lng[1]).city_name\n",
    "    \n",
    "    # If the city is unique, then add it to a our cities list\n",
    "    if city not in cities:\n",
    "        cities.append(city)\n",
    "\n",
    "# Print the city count to confirm sufficient count\n",
    "len(cities)"
   ]
  },
  {
   "cell_type": "markdown",
   "metadata": {},
   "source": [
    "### Perform API Calls\n",
    "* Perform a weather check on each city using a series of successive API calls.\n",
    "* Include a print log of each city as it'sbeing processed (with the city number and city name).\n"
   ]
  },
  {
   "cell_type": "code",
   "execution_count": 4,
   "metadata": {
    "scrolled": true
   },
   "outputs": [
    {
     "name": "stdout",
     "output_type": "stream",
     "text": [
      "Beginning Data Retrieval \n",
      "-----------------------------\n",
      "Processing Record 0 of Set 1 | bredasdorp\n",
      "Processing Record 1 of Set 1 | carnarvon\n",
      "Processing Record 2 of Set 1 | luganville\n",
      "Processing Record 3 of Set 1 | akdepe\n",
      "Processing Record 4 of Set 1 | bethel\n",
      "Processing Record 5 of Set 1 | chokurdakh\n",
      "Processing Record 6 of Set 1 | ancud\n",
      "Processing Record 7 of Set 1 | mattru\n",
      "Processing Record 8 of Set 1 | guanica\n",
      "Processing Record 9 of Set 1 | marcona\n",
      "City not found. Skipping...\n",
      "Processing Record 10 of Set 1 | jamestown\n",
      "Processing Record 11 of Set 1 | mandalgovi\n",
      "Processing Record 12 of Set 1 | naze\n",
      "Processing Record 13 of Set 1 | busselton\n",
      "Processing Record 14 of Set 1 | road town\n",
      "Processing Record 15 of Set 1 | rikitea\n",
      "Processing Record 16 of Set 1 | hobart\n",
      "Processing Record 17 of Set 1 | albany\n",
      "Processing Record 18 of Set 1 | itarema\n",
      "Processing Record 19 of Set 1 | ushuaia\n",
      "Processing Record 20 of Set 1 | hualmay\n",
      "Processing Record 21 of Set 1 | inhambane\n",
      "Processing Record 22 of Set 1 | mount gambier\n",
      "Processing Record 23 of Set 1 | yellowknife\n",
      "Processing Record 24 of Set 1 | gasa\n",
      "Processing Record 25 of Set 1 | ponta do sol\n",
      "Processing Record 26 of Set 1 | tuktoyaktuk\n",
      "Processing Record 27 of Set 1 | baruun-urt\n",
      "Processing Record 28 of Set 1 | nantucket\n",
      "Processing Record 29 of Set 1 | punta arenas\n",
      "Processing Record 30 of Set 1 | vila velha\n",
      "Processing Record 31 of Set 1 | sao filipe\n",
      "Processing Record 32 of Set 1 | vaini\n",
      "Processing Record 33 of Set 1 | depalpur\n",
      "Processing Record 34 of Set 1 | oxford\n",
      "Processing Record 35 of Set 1 | port alfred\n",
      "Processing Record 36 of Set 1 | lazaro cardenas\n",
      "Processing Record 37 of Set 1 | roebourne\n",
      "Processing Record 38 of Set 1 | morondava\n",
      "Processing Record 39 of Set 1 | cabo san lucas\n",
      "Processing Record 40 of Set 1 | seoul\n",
      "Processing Record 41 of Set 1 | birin\n",
      "Processing Record 42 of Set 1 | new norfolk\n",
      "Processing Record 43 of Set 1 | cape town\n",
      "Processing Record 44 of Set 1 | dunedin\n",
      "Processing Record 45 of Set 1 | ahipara\n",
      "Processing Record 46 of Set 1 | mizan teferi\n",
      "Processing Record 47 of Set 1 | juifang\n",
      "City not found. Skipping...\n",
      "Processing Record 48 of Set 1 | mataura\n",
      "Processing Record 49 of Set 2 | sandy bay\n",
      "Processing Record 50 of Set 2 | butaritari\n",
      "Processing Record 51 of Set 2 | barrow\n",
      "Processing Record 52 of Set 2 | kapaa\n",
      "Processing Record 53 of Set 2 | mounana\n",
      "Processing Record 54 of Set 2 | ilebo\n",
      "Processing Record 55 of Set 2 | san clemente\n",
      "Processing Record 56 of Set 2 | bani\n",
      "Processing Record 57 of Set 2 | havoysund\n",
      "Processing Record 58 of Set 2 | marienburg\n",
      "Processing Record 59 of Set 2 | hasaki\n",
      "Processing Record 60 of Set 2 | ardahan\n",
      "Processing Record 61 of Set 2 | san patricio\n",
      "Processing Record 62 of Set 2 | aldan\n",
      "Processing Record 63 of Set 2 | fermoy\n",
      "Processing Record 64 of Set 2 | voh\n",
      "Processing Record 65 of Set 2 | hastings\n",
      "Processing Record 66 of Set 2 | chom bung\n",
      "City not found. Skipping...\n",
      "Processing Record 67 of Set 2 | paradwip\n",
      "City not found. Skipping...\n",
      "Processing Record 68 of Set 2 | bengkulu\n",
      "Processing Record 69 of Set 2 | at-bashi\n",
      "Processing Record 70 of Set 2 | pedernales\n",
      "Processing Record 71 of Set 2 | lebu\n",
      "Processing Record 72 of Set 2 | iqaluit\n",
      "Processing Record 73 of Set 2 | mar del plata\n",
      "Processing Record 74 of Set 2 | terney\n",
      "Processing Record 75 of Set 2 | ribeira grande\n",
      "Processing Record 76 of Set 2 | viedma\n",
      "Processing Record 77 of Set 2 | paamiut\n",
      "Processing Record 78 of Set 2 | airai\n",
      "Processing Record 79 of Set 2 | casper\n",
      "Processing Record 80 of Set 2 | nizhneyansk\n",
      "City not found. Skipping...\n",
      "Processing Record 81 of Set 2 | barentsburg\n",
      "City not found. Skipping...\n",
      "Processing Record 82 of Set 2 | kaitangata\n",
      "Processing Record 83 of Set 2 | portland\n",
      "Processing Record 84 of Set 2 | hermanus\n",
      "Processing Record 85 of Set 2 | dikson\n",
      "Processing Record 86 of Set 2 | port hardy\n",
      "Processing Record 87 of Set 2 | nyurba\n",
      "Processing Record 88 of Set 2 | taolanaro\n",
      "City not found. Skipping...\n",
      "Processing Record 89 of Set 2 | ambodifototra\n",
      "City not found. Skipping...\n",
      "Processing Record 90 of Set 2 | komsomolskiy\n",
      "Processing Record 91 of Set 2 | wulanhaote\n",
      "City not found. Skipping...\n",
      "Processing Record 92 of Set 2 | naftah\n",
      "City not found. Skipping...\n",
      "Processing Record 93 of Set 2 | atuona\n",
      "Processing Record 94 of Set 2 | port blair\n",
      "Processing Record 95 of Set 2 | aklavik\n",
      "Processing Record 96 of Set 2 | mogadishu\n",
      "Processing Record 97 of Set 2 | padang\n",
      "Processing Record 98 of Set 3 | bathsheba\n",
      "Processing Record 99 of Set 3 | hobyo\n",
      "Processing Record 100 of Set 3 | salinas\n",
      "Processing Record 101 of Set 3 | matagami\n",
      "Processing Record 102 of Set 3 | beringovskiy\n",
      "Processing Record 103 of Set 3 | stettler\n",
      "Processing Record 104 of Set 3 | qaanaaq\n",
      "Processing Record 105 of Set 3 | deputatskiy\n",
      "Processing Record 106 of Set 3 | khatanga\n",
      "Processing Record 107 of Set 3 | spornoye\n",
      "Processing Record 108 of Set 3 | oranjemund\n",
      "Processing Record 109 of Set 3 | tura\n",
      "Processing Record 110 of Set 3 | westport\n",
      "Processing Record 111 of Set 3 | grindavik\n",
      "Processing Record 112 of Set 3 | ndioum\n",
      "Processing Record 113 of Set 3 | waingapu\n",
      "Processing Record 114 of Set 3 | mahebourg\n",
      "Processing Record 115 of Set 3 | saskylakh\n",
      "Processing Record 116 of Set 3 | vaitupu\n",
      "City not found. Skipping...\n",
      "Processing Record 117 of Set 3 | sola\n",
      "Processing Record 118 of Set 3 | pangody\n",
      "Processing Record 119 of Set 3 | port-gentil\n",
      "Processing Record 120 of Set 3 | bluff\n",
      "Processing Record 121 of Set 3 | kindu\n",
      "Processing Record 122 of Set 3 | kavieng\n",
      "Processing Record 123 of Set 3 | quatre cocos\n",
      "Processing Record 124 of Set 3 | illoqqortoormiut\n",
      "City not found. Skipping...\n",
      "Processing Record 125 of Set 3 | vestmannaeyjar\n",
      "Processing Record 126 of Set 3 | eureka\n",
      "Processing Record 127 of Set 3 | malibu\n",
      "Processing Record 128 of Set 3 | tasiilaq\n",
      "Processing Record 129 of Set 3 | severnyy\n",
      "Processing Record 130 of Set 3 | tsihombe\n",
      "City not found. Skipping...\n",
      "Processing Record 131 of Set 3 | da nang\n",
      "Processing Record 132 of Set 3 | mys shmidta\n",
      "City not found. Skipping...\n",
      "Processing Record 133 of Set 3 | luderitz\n",
      "Processing Record 134 of Set 3 | stepnyak\n",
      "Processing Record 135 of Set 3 | carroll\n",
      "Processing Record 136 of Set 3 | castro\n",
      "Processing Record 137 of Set 3 | hilo\n",
      "Processing Record 138 of Set 3 | fare\n",
      "Processing Record 139 of Set 3 | tiksi\n",
      "Processing Record 140 of Set 3 | curaca\n",
      "Processing Record 141 of Set 3 | aykhal\n",
      "Processing Record 142 of Set 3 | flagstaff\n",
      "Processing Record 143 of Set 3 | chuy\n",
      "Processing Record 144 of Set 3 | namibe\n",
      "Processing Record 145 of Set 3 | mehamn\n",
      "Processing Record 146 of Set 3 | georgetown\n",
      "Processing Record 147 of Set 4 | wolmaranstad\n",
      "City not found. Skipping...\n",
      "Processing Record 148 of Set 4 | show low\n",
      "Processing Record 149 of Set 4 | compuertas\n",
      "Processing Record 150 of Set 4 | bucerias\n",
      "Processing Record 151 of Set 4 | acapulco\n",
      "Processing Record 152 of Set 4 | devarkonda\n",
      "Processing Record 153 of Set 4 | moron\n",
      "Processing Record 154 of Set 4 | sisimiut\n",
      "Processing Record 155 of Set 4 | veraval\n",
      "Processing Record 156 of Set 4 | vardo\n",
      "Processing Record 157 of Set 4 | torbay\n",
      "Processing Record 158 of Set 4 | saint-francois\n",
      "Processing Record 159 of Set 4 | gat\n",
      "Processing Record 160 of Set 4 | bambanglipuro\n",
      "Processing Record 161 of Set 4 | fortuna\n",
      "Processing Record 162 of Set 4 | coquimbo\n",
      "Processing Record 163 of Set 4 | verkh-usugli\n",
      "Processing Record 164 of Set 4 | vanimo\n",
      "Processing Record 165 of Set 4 | tabou\n",
      "Processing Record 166 of Set 4 | dingle\n",
      "Processing Record 167 of Set 4 | porto novo\n",
      "Processing Record 168 of Set 4 | arraial do cabo\n",
      "Processing Record 169 of Set 4 | tazovskiy\n",
      "Processing Record 170 of Set 4 | bima\n",
      "Processing Record 171 of Set 4 | bilma\n",
      "Processing Record 172 of Set 4 | vicuna\n",
      "Processing Record 173 of Set 4 | catabola\n",
      "Processing Record 174 of Set 4 | chernyy yar\n",
      "Processing Record 175 of Set 4 | nikolskoye\n",
      "Processing Record 176 of Set 4 | zambezi\n",
      "Processing Record 177 of Set 4 | acurenam\n",
      "Processing Record 178 of Set 4 | turukhansk\n",
      "Processing Record 179 of Set 4 | bumba\n",
      "Processing Record 180 of Set 4 | east london\n",
      "Processing Record 181 of Set 4 | kudahuvadhoo\n",
      "Processing Record 182 of Set 4 | kiama\n",
      "Processing Record 183 of Set 4 | hay river\n",
      "Processing Record 184 of Set 4 | guerrero negro\n",
      "Processing Record 185 of Set 4 | bamberg\n"
     ]
    },
    {
     "name": "stdout",
     "output_type": "stream",
     "text": [
      "Processing Record 186 of Set 4 | borinskoye\n",
      "Processing Record 187 of Set 4 | thompson\n",
      "Processing Record 188 of Set 4 | egvekinot\n",
      "Processing Record 189 of Set 4 | faanui\n",
      "Processing Record 190 of Set 4 | brae\n",
      "Processing Record 191 of Set 4 | puerto ayora\n",
      "Processing Record 192 of Set 4 | virginia beach\n",
      "Processing Record 193 of Set 4 | cartagena\n",
      "Processing Record 194 of Set 4 | pochutla\n",
      "Processing Record 195 of Set 4 | leningradskiy\n",
      "Processing Record 196 of Set 5 | benguela\n",
      "Processing Record 197 of Set 5 | upernavik\n",
      "Processing Record 198 of Set 5 | malatya\n",
      "Processing Record 199 of Set 5 | saint-philippe\n",
      "Processing Record 200 of Set 5 | kruisfontein\n",
      "Processing Record 201 of Set 5 | miraflores\n",
      "Processing Record 202 of Set 5 | nabire\n",
      "Processing Record 203 of Set 5 | cascais\n",
      "Processing Record 204 of Set 5 | lamu\n",
      "Processing Record 205 of Set 5 | saint george\n",
      "Processing Record 206 of Set 5 | norman wells\n",
      "Processing Record 207 of Set 5 | forchheim\n",
      "Processing Record 208 of Set 5 | margate\n",
      "Processing Record 209 of Set 5 | algiers\n",
      "Processing Record 210 of Set 5 | cidreira\n",
      "Processing Record 211 of Set 5 | bazarnyye mataki\n",
      "Processing Record 212 of Set 5 | sfantu gheorghe\n",
      "Processing Record 213 of Set 5 | palabuhanratu\n",
      "City not found. Skipping...\n",
      "Processing Record 214 of Set 5 | bonnyville\n",
      "Processing Record 215 of Set 5 | sandnessjoen\n",
      "Processing Record 216 of Set 5 | chambas\n",
      "Processing Record 217 of Set 5 | kiruna\n",
      "Processing Record 218 of Set 5 | kahului\n",
      "Processing Record 219 of Set 5 | mahadday weyne\n",
      "City not found. Skipping...\n",
      "Processing Record 220 of Set 5 | palmer\n",
      "Processing Record 221 of Set 5 | fairbanks\n",
      "Processing Record 222 of Set 5 | sentyabrskiy\n",
      "City not found. Skipping...\n",
      "Processing Record 223 of Set 5 | ulladulla\n",
      "Processing Record 224 of Set 5 | haines junction\n",
      "Processing Record 225 of Set 5 | sheltozero\n",
      "Processing Record 226 of Set 5 | mendoza\n",
      "Processing Record 227 of Set 5 | ligayan\n",
      "Processing Record 228 of Set 5 | fukue\n",
      "Processing Record 229 of Set 5 | svetlogorsk\n",
      "Processing Record 230 of Set 5 | methoni\n",
      "Processing Record 231 of Set 5 | sambava\n",
      "Processing Record 232 of Set 5 | hithadhoo\n",
      "Processing Record 233 of Set 5 | krasnoyarsk-45\n",
      "City not found. Skipping...\n",
      "Processing Record 234 of Set 5 | nalut\n",
      "Processing Record 235 of Set 5 | hornostayivka\n",
      "Processing Record 236 of Set 5 | canyon lake\n",
      "Processing Record 237 of Set 5 | matara\n",
      "Processing Record 238 of Set 5 | raudeberg\n",
      "Processing Record 239 of Set 5 | menongue\n",
      "Processing Record 240 of Set 5 | avarua\n",
      "Processing Record 241 of Set 5 | dano\n",
      "Processing Record 242 of Set 5 | general roca\n",
      "Processing Record 243 of Set 5 | palm coast\n",
      "Processing Record 244 of Set 5 | arlit\n",
      "Processing Record 245 of Set 6 | kodiak\n",
      "Processing Record 246 of Set 6 | biu\n",
      "Processing Record 247 of Set 6 | batagay-alyta\n",
      "Processing Record 248 of Set 6 | gao\n",
      "Processing Record 249 of Set 6 | kutum\n",
      "Processing Record 250 of Set 6 | lermontovka\n",
      "Processing Record 251 of Set 6 | longyearbyen\n",
      "Processing Record 252 of Set 6 | zeya\n",
      "Processing Record 253 of Set 6 | lompoc\n",
      "Processing Record 254 of Set 6 | anadyr\n",
      "Processing Record 255 of Set 6 | jacareacanga\n",
      "Processing Record 256 of Set 6 | santa maria\n",
      "Processing Record 257 of Set 6 | opuwo\n",
      "Processing Record 258 of Set 6 | pavlogradka\n",
      "Processing Record 259 of Set 6 | geraldton\n",
      "Processing Record 260 of Set 6 | salalah\n",
      "Processing Record 261 of Set 6 | butterworth\n",
      "Processing Record 262 of Set 6 | solnechnyy\n",
      "Processing Record 263 of Set 6 | varva\n",
      "Processing Record 264 of Set 6 | basco\n",
      "Processing Record 265 of Set 6 | ballinrobe\n",
      "Processing Record 266 of Set 6 | nemuro\n",
      "Processing Record 267 of Set 6 | sao joao da barra\n",
      "Processing Record 268 of Set 6 | whitianga\n",
      "Processing Record 269 of Set 6 | faya\n",
      "Processing Record 270 of Set 6 | sioux lookout\n",
      "Processing Record 271 of Set 6 | valley\n",
      "Processing Record 272 of Set 6 | ushtobe\n",
      "Processing Record 273 of Set 6 | port lincoln\n",
      "Processing Record 274 of Set 6 | mancio lima\n",
      "Processing Record 275 of Set 6 | nishihara\n",
      "Processing Record 276 of Set 6 | mazyr\n",
      "Processing Record 277 of Set 6 | leeton\n",
      "Processing Record 278 of Set 6 | port elizabeth\n",
      "Processing Record 279 of Set 6 | camopi\n",
      "Processing Record 280 of Set 6 | salinopolis\n",
      "Processing Record 281 of Set 6 | santhia\n",
      "Processing Record 282 of Set 6 | olafsvik\n",
      "Processing Record 283 of Set 6 | cayenne\n",
      "Processing Record 284 of Set 6 | sulurpeta\n",
      "City not found. Skipping...\n",
      "Processing Record 285 of Set 6 | alta floresta\n",
      "Processing Record 286 of Set 6 | calabozo\n",
      "Processing Record 287 of Set 6 | beruni\n",
      "City not found. Skipping...\n",
      "Processing Record 288 of Set 6 | bentiu\n",
      "Processing Record 289 of Set 6 | diffa\n",
      "Processing Record 290 of Set 6 | jati\n",
      "Processing Record 291 of Set 6 | ilulissat\n",
      "Processing Record 292 of Set 6 | mnogovershinnyy\n",
      "Processing Record 293 of Set 6 | gizo\n",
      "Processing Record 294 of Set 7 | srednekolymsk\n",
      "Processing Record 295 of Set 7 | mooi river\n",
      "City not found. Skipping...\n",
      "Processing Record 296 of Set 7 | puerto madryn\n",
      "Processing Record 297 of Set 7 | belaya gora\n",
      "Processing Record 298 of Set 7 | alofi\n",
      "Processing Record 299 of Set 7 | keningau\n",
      "Processing Record 300 of Set 7 | paita\n",
      "Processing Record 301 of Set 7 | krasnoselkup\n",
      "Processing Record 302 of Set 7 | talnakh\n",
      "Processing Record 303 of Set 7 | warqla\n",
      "City not found. Skipping...\n",
      "Processing Record 304 of Set 7 | marquard\n",
      "Processing Record 305 of Set 7 | maneadero\n",
      "Processing Record 306 of Set 7 | zolotinka\n",
      "City not found. Skipping...\n",
      "Processing Record 307 of Set 7 | aguimes\n",
      "Processing Record 308 of Set 7 | grand gaube\n",
      "Processing Record 309 of Set 7 | dieppe\n",
      "Processing Record 310 of Set 7 | chagda\n",
      "City not found. Skipping...\n",
      "Processing Record 311 of Set 7 | belmonte\n",
      "Processing Record 312 of Set 7 | buraydah\n",
      "Processing Record 313 of Set 7 | bairiki\n",
      "Processing Record 314 of Set 7 | chodavaram\n",
      "Processing Record 315 of Set 7 | okhotsk\n",
      "Processing Record 316 of Set 7 | ornskoldsvik\n",
      "Processing Record 317 of Set 7 | saint-louis\n",
      "Processing Record 318 of Set 7 | meulaboh\n",
      "Processing Record 319 of Set 7 | naryan-mar\n",
      "Processing Record 320 of Set 7 | lagoa\n",
      "Processing Record 321 of Set 7 | beaupre\n",
      "Processing Record 322 of Set 7 | makakilo city\n",
      "Processing Record 323 of Set 7 | razdolnoye\n",
      "Processing Record 324 of Set 7 | la palma\n",
      "Processing Record 325 of Set 7 | katherine\n",
      "Processing Record 326 of Set 7 | hovd\n",
      "Processing Record 327 of Set 7 | gazli\n",
      "Processing Record 328 of Set 7 | ribeira brava\n",
      "Processing Record 329 of Set 7 | esperance\n",
      "Processing Record 330 of Set 7 | taoudenni\n",
      "Processing Record 331 of Set 7 | eirunepe\n",
      "Processing Record 332 of Set 7 | yarim\n",
      "Processing Record 333 of Set 7 | paracuru\n",
      "Processing Record 334 of Set 7 | jhelum\n",
      "Processing Record 335 of Set 7 | bambous virieux\n",
      "Processing Record 336 of Set 7 | mount isa\n",
      "Processing Record 337 of Set 7 | bassano\n",
      "Processing Record 338 of Set 7 | imbituba\n",
      "Processing Record 339 of Set 7 | pavilosta\n",
      "Processing Record 340 of Set 7 | lata\n",
      "Processing Record 341 of Set 7 | sapao\n",
      "City not found. Skipping...\n",
      "Processing Record 342 of Set 7 | comodoro rivadavia\n",
      "Processing Record 343 of Set 8 | ilinsko-podomskoye\n",
      "City not found. Skipping...\n",
      "Processing Record 344 of Set 8 | yerofey pavlovich\n",
      "Processing Record 345 of Set 8 | talcahuano\n",
      "Processing Record 346 of Set 8 | ramkola\n",
      "Processing Record 347 of Set 8 | evensk\n",
      "Processing Record 348 of Set 8 | corpus christi\n",
      "Processing Record 349 of Set 8 | awjilah\n",
      "Processing Record 350 of Set 8 | bonfim\n",
      "Processing Record 351 of Set 8 | attawapiskat\n",
      "City not found. Skipping...\n",
      "Processing Record 352 of Set 8 | hofn\n",
      "Processing Record 353 of Set 8 | oussouye\n",
      "Processing Record 354 of Set 8 | bodden town\n",
      "Processing Record 355 of Set 8 | vao\n",
      "Processing Record 356 of Set 8 | dicamay\n",
      "Processing Record 357 of Set 8 | yichun\n",
      "Processing Record 358 of Set 8 | caravelas\n",
      "Processing Record 359 of Set 8 | lavrentiya\n",
      "Processing Record 360 of Set 8 | saint-pierre\n",
      "Processing Record 361 of Set 8 | moses lake\n",
      "Processing Record 362 of Set 8 | adrar\n",
      "Processing Record 363 of Set 8 | provideniya\n",
      "Processing Record 364 of Set 8 | port macquarie\n",
      "Processing Record 365 of Set 8 | khani\n",
      "Processing Record 366 of Set 8 | dudinka\n",
      "Processing Record 367 of Set 8 | kamenskoye\n",
      "City not found. Skipping...\n",
      "Processing Record 368 of Set 8 | puerto baquerizo moreno\n"
     ]
    },
    {
     "name": "stdout",
     "output_type": "stream",
     "text": [
      "Processing Record 369 of Set 8 | mackay\n",
      "Processing Record 370 of Set 8 | salina\n",
      "Processing Record 371 of Set 8 | tateyama\n",
      "Processing Record 372 of Set 8 | ondorhaan\n",
      "City not found. Skipping...\n",
      "Processing Record 373 of Set 8 | nazareno\n",
      "Processing Record 374 of Set 8 | jaen\n",
      "Processing Record 375 of Set 8 | alcudia\n",
      "Processing Record 376 of Set 8 | sibolga\n",
      "Processing Record 377 of Set 8 | pisco\n",
      "Processing Record 378 of Set 8 | sitka\n",
      "Processing Record 379 of Set 8 | mabaruma\n",
      "Processing Record 380 of Set 8 | zatoka\n",
      "Processing Record 381 of Set 8 | luau\n",
      "Processing Record 382 of Set 8 | atambua\n",
      "Processing Record 383 of Set 8 | viligili\n",
      "City not found. Skipping...\n",
      "Processing Record 384 of Set 8 | el alto\n",
      "Processing Record 385 of Set 8 | ulaanbaatar\n",
      "Processing Record 386 of Set 8 | wamba\n",
      "Processing Record 387 of Set 8 | inongo\n",
      "Processing Record 388 of Set 8 | auki\n",
      "Processing Record 389 of Set 8 | goderich\n",
      "Processing Record 390 of Set 8 | doha\n",
      "Processing Record 391 of Set 8 | mahanoro\n",
      "Processing Record 392 of Set 9 | kintampo\n",
      "Processing Record 393 of Set 9 | miandrivazo\n",
      "Processing Record 394 of Set 9 | ola\n",
      "Processing Record 395 of Set 9 | asyut\n",
      "Processing Record 396 of Set 9 | zhumadian\n",
      "Processing Record 397 of Set 9 | ha giang\n",
      "Processing Record 398 of Set 9 | kultuk\n",
      "Processing Record 399 of Set 9 | severo-kurilsk\n",
      "Processing Record 400 of Set 9 | villefontaine\n",
      "Processing Record 401 of Set 9 | narsaq\n",
      "Processing Record 402 of Set 9 | petropavlovsk-kamchatskiy\n",
      "Processing Record 403 of Set 9 | lasa\n",
      "Processing Record 404 of Set 9 | phan rang\n",
      "City not found. Skipping...\n",
      "Processing Record 405 of Set 9 | belushya guba\n",
      "City not found. Skipping...\n",
      "Processing Record 406 of Set 9 | alice town\n",
      "Processing Record 407 of Set 9 | sampit\n",
      "Processing Record 408 of Set 9 | biak\n",
      "Processing Record 409 of Set 9 | keansburg\n",
      "Processing Record 410 of Set 9 | luwuk\n",
      "Processing Record 411 of Set 9 | perth\n",
      "Processing Record 412 of Set 9 | san cristobal\n",
      "Processing Record 413 of Set 9 | bachatskiy\n",
      "Processing Record 414 of Set 9 | burns lake\n",
      "Processing Record 415 of Set 9 | skibbereen\n",
      "Processing Record 416 of Set 9 | luziania\n",
      "Processing Record 417 of Set 9 | malwan\n",
      "City not found. Skipping...\n",
      "Processing Record 418 of Set 9 | santa fe\n",
      "Processing Record 419 of Set 9 | nouadhibou\n",
      "Processing Record 420 of Set 9 | stephenville\n",
      "Processing Record 421 of Set 9 | victor harbor\n",
      "Processing Record 422 of Set 9 | victoria\n",
      "Processing Record 423 of Set 9 | kuminskiy\n",
      "Processing Record 424 of Set 9 | hokitika\n",
      "Processing Record 425 of Set 9 | torit\n",
      "Processing Record 426 of Set 9 | jaicos\n",
      "Processing Record 427 of Set 9 | amderma\n",
      "City not found. Skipping...\n",
      "Processing Record 428 of Set 9 | pyay\n",
      "Processing Record 429 of Set 9 | fallon\n",
      "Processing Record 430 of Set 9 | nao-me-toque\n",
      "City not found. Skipping...\n",
      "Processing Record 431 of Set 9 | fuyu\n",
      "Processing Record 432 of Set 9 | curup\n",
      "Processing Record 433 of Set 9 | siguiri\n",
      "Processing Record 434 of Set 9 | lolua\n",
      "City not found. Skipping...\n",
      "Processing Record 435 of Set 9 | safford\n",
      "Processing Record 436 of Set 9 | eyl\n",
      "Processing Record 437 of Set 9 | constitucion\n",
      "Processing Record 438 of Set 9 | taybad\n",
      "Processing Record 439 of Set 9 | piatra neamt\n",
      "Processing Record 440 of Set 9 | karakendzha\n",
      "City not found. Skipping...\n",
      "Processing Record 441 of Set 10 | redlands\n",
      "Processing Record 442 of Set 10 | half moon bay\n",
      "Processing Record 443 of Set 10 | dubbo\n",
      "Processing Record 444 of Set 10 | kununurra\n",
      "Processing Record 445 of Set 10 | krasnokamsk\n",
      "Processing Record 446 of Set 10 | los llanos de aridane\n",
      "Processing Record 447 of Set 10 | porangatu\n",
      "Processing Record 448 of Set 10 | tessalit\n",
      "Processing Record 449 of Set 10 | guiratinga\n",
      "Processing Record 450 of Set 10 | talara\n",
      "Processing Record 451 of Set 10 | gunjur\n",
      "Processing Record 452 of Set 10 | polunochnoye\n",
      "Processing Record 453 of Set 10 | sao miguel do araguaia\n",
      "Processing Record 454 of Set 10 | ahome\n",
      "Processing Record 455 of Set 10 | pevek\n",
      "Processing Record 456 of Set 10 | puerto leguizamo\n",
      "Processing Record 457 of Set 10 | las matas de farfan\n",
      "Processing Record 458 of Set 10 | zhuozhou\n",
      "City not found. Skipping...\n",
      "Processing Record 459 of Set 10 | elizabeth city\n",
      "Processing Record 460 of Set 10 | goedereede\n",
      "Processing Record 461 of Set 10 | karaul\n",
      "City not found. Skipping...\n",
      "Processing Record 462 of Set 10 | miranorte\n",
      "City not found. Skipping...\n",
      "Processing Record 463 of Set 10 | pangnirtung\n",
      "Processing Record 464 of Set 10 | ayan\n",
      "Processing Record 465 of Set 10 | pointe michel\n",
      "Processing Record 466 of Set 10 | college\n",
      "Processing Record 467 of Set 10 | denpasar\n",
      "Processing Record 468 of Set 10 | kirksville\n",
      "Processing Record 469 of Set 10 | igrim\n",
      "Processing Record 470 of Set 10 | shenjiamen\n",
      "Processing Record 471 of Set 10 | rio claro\n",
      "Processing Record 472 of Set 10 | bay roberts\n",
      "Processing Record 473 of Set 10 | nanortalik\n",
      "Processing Record 474 of Set 10 | morant bay\n",
      "Processing Record 475 of Set 10 | gorontalo\n",
      "Processing Record 476 of Set 10 | ponta delgada\n",
      "Processing Record 477 of Set 10 | henties bay\n",
      "Processing Record 478 of Set 10 | barranca\n",
      "Processing Record 479 of Set 10 | gold coast\n",
      "Processing Record 480 of Set 10 | louisbourg\n",
      "City not found. Skipping...\n",
      "Processing Record 481 of Set 10 | acarau\n",
      "Processing Record 482 of Set 10 | moindou\n",
      "Processing Record 483 of Set 10 | tuatapere\n",
      "Processing Record 484 of Set 10 | katsuura\n",
      "Processing Record 485 of Set 10 | obihiro\n",
      "Processing Record 486 of Set 10 | amberieu-en-bugey\n",
      "Processing Record 487 of Set 10 | ust-nera\n",
      "Processing Record 488 of Set 10 | safaga\n",
      "Processing Record 489 of Set 10 | ossora\n",
      "Processing Record 490 of Set 11 | bacolod\n",
      "Processing Record 491 of Set 11 | nikki\n",
      "Processing Record 492 of Set 11 | wukari\n",
      "Processing Record 493 of Set 11 | yangjiang\n",
      "Processing Record 494 of Set 11 | marzuq\n",
      "Processing Record 495 of Set 11 | vila\n",
      "Processing Record 496 of Set 11 | caconda\n",
      "Processing Record 497 of Set 11 | khonuu\n",
      "City not found. Skipping...\n",
      "Processing Record 498 of Set 11 | khed brahma\n",
      "Processing Record 499 of Set 11 | buyukcavuslu\n",
      "Processing Record 500 of Set 11 | matsuura\n",
      "Processing Record 501 of Set 11 | shimoda\n",
      "Processing Record 502 of Set 11 | aktash\n",
      "Processing Record 503 of Set 11 | chegdomyn\n",
      "Processing Record 504 of Set 11 | rock sound\n",
      "Processing Record 505 of Set 11 | sinjar\n",
      "Processing Record 506 of Set 11 | lagos\n",
      "Processing Record 507 of Set 11 | birao\n",
      "Processing Record 508 of Set 11 | labutta\n",
      "City not found. Skipping...\n",
      "Processing Record 509 of Set 11 | rovaniemi\n",
      "Processing Record 510 of Set 11 | kavaratti\n",
      "Processing Record 511 of Set 11 | san quintin\n",
      "Processing Record 512 of Set 11 | rohtak\n",
      "Processing Record 513 of Set 11 | muroto\n",
      "Processing Record 514 of Set 11 | rundu\n",
      "Processing Record 515 of Set 11 | loubomo\n",
      "Processing Record 516 of Set 11 | richards bay\n",
      "Processing Record 517 of Set 11 | ballina\n",
      "Processing Record 518 of Set 11 | senneterre\n",
      "Processing Record 519 of Set 11 | novoorsk\n",
      "Processing Record 520 of Set 11 | mae hong son\n",
      "Processing Record 521 of Set 11 | polson\n",
      "Processing Record 522 of Set 11 | calvia\n",
      "Processing Record 523 of Set 11 | poya\n",
      "Processing Record 524 of Set 11 | vila franca do campo\n",
      "Processing Record 525 of Set 11 | bani walid\n",
      "Processing Record 526 of Set 11 | sorvag\n",
      "City not found. Skipping...\n",
      "Processing Record 527 of Set 11 | tautira\n",
      "Processing Record 528 of Set 11 | las palmas\n",
      "Processing Record 529 of Set 11 | muros\n",
      "Processing Record 530 of Set 11 | ocean city\n",
      "Processing Record 531 of Set 11 | buala\n",
      "Processing Record 532 of Set 11 | dwarka\n",
      "Processing Record 533 of Set 11 | colac\n",
      "Processing Record 534 of Set 11 | kropotkin\n",
      "Processing Record 535 of Set 11 | hangu\n",
      "Processing Record 536 of Set 11 | vire\n",
      "Processing Record 537 of Set 11 | mahonda\n",
      "Processing Record 538 of Set 11 | dalian\n",
      "Processing Record 539 of Set 12 | juarez\n",
      "Processing Record 540 of Set 12 | barreirinhas\n",
      "Processing Record 541 of Set 12 | nichinan\n",
      "Processing Record 542 of Set 12 | chor\n",
      "Processing Record 543 of Set 12 | joao pinheiro\n",
      "Processing Record 544 of Set 12 | saint anthony\n",
      "Processing Record 545 of Set 12 | harper\n",
      "Processing Record 546 of Set 12 | innisfail\n",
      "Processing Record 547 of Set 12 | port hedland\n",
      "Processing Record 548 of Set 12 | christchurch\n",
      "Processing Record 549 of Set 12 | modasa\n"
     ]
    },
    {
     "name": "stdout",
     "output_type": "stream",
     "text": [
      "Processing Record 550 of Set 12 | merauke\n",
      "Processing Record 551 of Set 12 | nata\n",
      "Processing Record 552 of Set 12 | tevriz\n",
      "Processing Record 553 of Set 12 | san jeronimo\n",
      "Processing Record 554 of Set 12 | isangel\n",
      "Processing Record 555 of Set 12 | vilhena\n",
      "Processing Record 556 of Set 12 | sale\n",
      "Processing Record 557 of Set 12 | ostrovnoy\n",
      "Processing Record 558 of Set 12 | agadez\n",
      "Processing Record 559 of Set 12 | aberdeen\n",
      "Processing Record 560 of Set 12 | pechenga\n",
      "Processing Record 561 of Set 12 | guajara-mirim\n",
      "City not found. Skipping...\n",
      "Processing Record 562 of Set 12 | kalmar\n",
      "Processing Record 563 of Set 12 | ozgon\n",
      "City not found. Skipping...\n",
      "Processing Record 564 of Set 12 | sedelnikovo\n",
      "City not found. Skipping...\n",
      "Processing Record 565 of Set 12 | talah\n",
      "City not found. Skipping...\n",
      "Processing Record 566 of Set 12 | tocopilla\n",
      "Processing Record 567 of Set 12 | saldanha\n",
      "Processing Record 568 of Set 12 | el quince\n",
      "Processing Record 569 of Set 12 | fevralsk\n",
      "City not found. Skipping...\n",
      "Processing Record 570 of Set 12 | kloulklubed\n",
      "Processing Record 571 of Set 12 | batemans bay\n",
      "Processing Record 572 of Set 12 | kortkeros\n",
      "Processing Record 573 of Set 12 | pemangkat\n",
      "Processing Record 574 of Set 12 | la ronge\n",
      "Processing Record 575 of Set 12 | lalpur\n",
      "Processing Record 576 of Set 12 | ketchikan\n",
      "Processing Record 577 of Set 12 | kieta\n",
      "Processing Record 578 of Set 12 | vostok\n",
      "Processing Record 579 of Set 12 | umuarama\n",
      "Processing Record 580 of Set 12 | kuusamo\n",
      "Processing Record 581 of Set 12 | kokopo\n",
      "Processing Record 582 of Set 12 | teknaf\n",
      "Processing Record 583 of Set 12 | guhagar\n",
      "Processing Record 584 of Set 12 | saleilua\n",
      "City not found. Skipping...\n",
      "Processing Record 585 of Set 12 | mastic beach\n",
      "Processing Record 586 of Set 12 | san andres\n",
      "Processing Record 587 of Set 12 | codrington\n",
      "Processing Record 588 of Set 13 | tubruq\n",
      "City not found. Skipping...\n",
      "Processing Record 589 of Set 13 | lityn\n",
      "Processing Record 590 of Set 13 | quepos\n",
      "Processing Record 591 of Set 13 | alekseyevskaya\n",
      "Processing Record 592 of Set 13 | anloga\n",
      "Processing Record 593 of Set 13 | kungurtug\n",
      "Processing Record 594 of Set 13 | karasjok\n",
      "Processing Record 595 of Set 13 | mareeba\n",
      "Processing Record 596 of Set 13 | kimbe\n",
      "Processing Record 597 of Set 13 | champagnole\n",
      "Processing Record 598 of Set 13 | nome\n",
      "Processing Record 599 of Set 13 | pastavy\n",
      "Processing Record 600 of Set 13 | verkhnevilyuysk\n",
      "Processing Record 601 of Set 13 | artigas\n",
      "Processing Record 602 of Set 13 | coruripe\n",
      "Processing Record 603 of Set 13 | crab hill\n",
      "City not found. Skipping...\n",
      "Processing Record 604 of Set 13 | praia\n",
      "Processing Record 605 of Set 13 | sept-iles\n",
      "Processing Record 606 of Set 13 | berezovyy\n",
      "Processing Record 607 of Set 13 | novo aripuana\n",
      "Processing Record 608 of Set 13 | meyungs\n",
      "City not found. Skipping...\n",
      "Processing Record 609 of Set 13 | tyulgan\n",
      "Processing Record 610 of Set 13 | vercelli\n",
      "Processing Record 611 of Set 13 | orotukan\n",
      "Processing Record 612 of Set 13 | graneros\n",
      "Processing Record 613 of Set 13 | fort nelson\n",
      "Processing Record 614 of Set 13 | tawnat\n",
      "City not found. Skipping...\n",
      "Processing Record 615 of Set 13 | korla\n",
      "Processing Record 616 of Set 13 | mayo\n",
      "Processing Record 617 of Set 13 | shelburne\n",
      "Processing Record 618 of Set 13 | linxia\n",
      "Processing Record 619 of Set 13 | salta\n",
      "Processing Record 620 of Set 13 | jibuti\n",
      "Processing Record 621 of Set 13 | old shinyanga\n",
      "Processing Record 622 of Set 13 | berlevag\n",
      "Processing Record 623 of Set 13 | kuytun\n",
      "Processing Record 624 of Set 13 | ruwi\n",
      "Processing Record 625 of Set 13 | broken hill\n",
      "Processing Record 626 of Set 13 | sol-iletsk\n",
      "Processing Record 627 of Set 13 | chipinge\n",
      "Processing Record 628 of Set 13 | singkawang\n",
      "Processing Record 629 of Set 13 | baiyin\n",
      "Processing Record 630 of Set 13 | stuttgart\n",
      "Processing Record 631 of Set 13 | great yarmouth\n",
      "Processing Record 632 of Set 13 | bayan\n",
      "Processing Record 633 of Set 13 | garowe\n",
      "Processing Record 634 of Set 13 | churapcha\n",
      "Processing Record 635 of Set 13 | palu\n",
      "Processing Record 636 of Set 13 | kabanjahe\n",
      "Processing Record 637 of Set 14 | nizhnyaya tavda\n",
      "Processing Record 638 of Set 14 | nadym\n",
      "Processing Record 639 of Set 14 | tecoanapa\n",
      "Processing Record 640 of Set 14 | sarnen\n",
      "Processing Record 641 of Set 14 | longyan\n",
      "Processing Record 642 of Set 14 | hayden\n",
      "Processing Record 643 of Set 14 | marihatag\n",
      "Processing Record 644 of Set 14 | jahrom\n",
      "City not found. Skipping...\n",
      "Processing Record 645 of Set 14 | xapuri\n",
      "Processing Record 646 of Set 14 | cherskiy\n",
      "------------------------------\n",
      "Data Retrieval Complete\n",
      "------------------------------\n"
     ]
    }
   ],
   "source": [
    "# Base URL\n",
    "url = \"http://api.openweathermap.org/data/2.5/weather?\"\n",
    "\n",
    "# List of city data\n",
    "city_data = []\n",
    "\n",
    "# Create counters\n",
    "i = 0\n",
    "set_count = 1\n",
    "\n",
    "units = 'imperial'\n",
    "\n",
    "print(f'Beginning Data Retrieval \\n-----------------------------')\n",
    "\n",
    "for index, city in enumerate(cities):\n",
    "    i +=1\n",
    "    \n",
    "    query_url = url +'appid=' + weather_api_key +'&q='+ city + '&units=' + units\n",
    "\n",
    "    response = requests.get(query_url).json()\n",
    "    print(f'Processing Record {index} of Set {set_count} | {city}')\n",
    "    if response['cod'] == '404':\n",
    "          print(f'City not found. Skipping...')\n",
    "    else:\n",
    "        city_data.append({\n",
    "            'City': response['name'],\n",
    "            'Lat': response['coord']['lat'],\n",
    "            'Lng': response['coord']['lon'],\n",
    "            'Max Temp': response['main']['temp_max'],\n",
    "            'Humidity': response['main']['humidity'],\n",
    "            'Cloudiness': response['clouds']['all'],\n",
    "            'Wind Speed': response['wind']['speed'],\n",
    "            'Country': response['sys']['country'],\n",
    "            'Date': response['dt']\n",
    "            })  \n",
    "    \n",
    "    if i == 49:\n",
    "        i =0\n",
    "        set_count +=1\n",
    "        \n",
    "print(\"------------------------------\\nData Retrieval Complete\\n------------------------------\")   "
   ]
  },
  {
   "cell_type": "markdown",
   "metadata": {},
   "source": [
    "### Convert Raw Data to DataFrame\n",
    "* Export the city data into a .csv.\n",
    "* Display the DataFrame"
   ]
  },
  {
   "cell_type": "code",
   "execution_count": 5,
   "metadata": {},
   "outputs": [
    {
     "data": {
      "text/html": [
       "<div>\n",
       "<style scoped>\n",
       "    .dataframe tbody tr th:only-of-type {\n",
       "        vertical-align: middle;\n",
       "    }\n",
       "\n",
       "    .dataframe tbody tr th {\n",
       "        vertical-align: top;\n",
       "    }\n",
       "\n",
       "    .dataframe thead th {\n",
       "        text-align: right;\n",
       "    }\n",
       "</style>\n",
       "<table border=\"1\" class=\"dataframe\">\n",
       "  <thead>\n",
       "    <tr style=\"text-align: right;\">\n",
       "      <th></th>\n",
       "      <th>City</th>\n",
       "      <th>Lat</th>\n",
       "      <th>Lng</th>\n",
       "      <th>Max Temp</th>\n",
       "      <th>Humidity</th>\n",
       "      <th>Cloudiness</th>\n",
       "      <th>Wind Speed</th>\n",
       "      <th>Country</th>\n",
       "      <th>Date</th>\n",
       "    </tr>\n",
       "  </thead>\n",
       "  <tbody>\n",
       "    <tr>\n",
       "      <th>0</th>\n",
       "      <td>Bredasdorp</td>\n",
       "      <td>-34.5322</td>\n",
       "      <td>20.0403</td>\n",
       "      <td>61.79</td>\n",
       "      <td>69</td>\n",
       "      <td>100</td>\n",
       "      <td>2.89</td>\n",
       "      <td>ZA</td>\n",
       "      <td>1669059916</td>\n",
       "    </tr>\n",
       "    <tr>\n",
       "      <th>1</th>\n",
       "      <td>Carnarvon</td>\n",
       "      <td>-24.8667</td>\n",
       "      <td>113.6333</td>\n",
       "      <td>73.62</td>\n",
       "      <td>57</td>\n",
       "      <td>39</td>\n",
       "      <td>8.93</td>\n",
       "      <td>AU</td>\n",
       "      <td>1669059916</td>\n",
       "    </tr>\n",
       "    <tr>\n",
       "      <th>2</th>\n",
       "      <td>Luganville</td>\n",
       "      <td>-15.5333</td>\n",
       "      <td>167.1667</td>\n",
       "      <td>81.25</td>\n",
       "      <td>81</td>\n",
       "      <td>69</td>\n",
       "      <td>5.73</td>\n",
       "      <td>VU</td>\n",
       "      <td>1669060002</td>\n",
       "    </tr>\n",
       "    <tr>\n",
       "      <th>3</th>\n",
       "      <td>Akdepe</td>\n",
       "      <td>42.0551</td>\n",
       "      <td>59.3788</td>\n",
       "      <td>37.49</td>\n",
       "      <td>68</td>\n",
       "      <td>100</td>\n",
       "      <td>4.38</td>\n",
       "      <td>TM</td>\n",
       "      <td>1669060002</td>\n",
       "    </tr>\n",
       "    <tr>\n",
       "      <th>4</th>\n",
       "      <td>Bethel</td>\n",
       "      <td>41.3712</td>\n",
       "      <td>-73.4140</td>\n",
       "      <td>40.01</td>\n",
       "      <td>39</td>\n",
       "      <td>0</td>\n",
       "      <td>12.66</td>\n",
       "      <td>US</td>\n",
       "      <td>1669060002</td>\n",
       "    </tr>\n",
       "  </tbody>\n",
       "</table>\n",
       "</div>"
      ],
      "text/plain": [
       "         City      Lat       Lng  Max Temp  Humidity  Cloudiness  Wind Speed  \\\n",
       "0  Bredasdorp -34.5322   20.0403     61.79        69         100        2.89   \n",
       "1   Carnarvon -24.8667  113.6333     73.62        57          39        8.93   \n",
       "2  Luganville -15.5333  167.1667     81.25        81          69        5.73   \n",
       "3      Akdepe  42.0551   59.3788     37.49        68         100        4.38   \n",
       "4      Bethel  41.3712  -73.4140     40.01        39           0       12.66   \n",
       "\n",
       "  Country        Date  \n",
       "0      ZA  1669059916  \n",
       "1      AU  1669059916  \n",
       "2      VU  1669060002  \n",
       "3      TM  1669060002  \n",
       "4      US  1669060002  "
      ]
     },
     "execution_count": 5,
     "metadata": {},
     "output_type": "execute_result"
    }
   ],
   "source": [
    "city_data = pd.DataFrame(city_data)\n",
    "city_data.to_csv(output_data_file, index_label=\"City_ID\")\n",
    "\n",
    "city_data.head()"
   ]
  },
  {
   "cell_type": "code",
   "execution_count": 7,
   "metadata": {},
   "outputs": [],
   "source": [
    "lat = city_data[\"Lat\"]\n",
    "max_temp = city_data[\"Max Temp\"]\n",
    "humidity = city_data[\"Humidity\"]\n",
    "cloudiness = city_data[\"Cloudiness\"]\n",
    "wind_speed = city_data[\"Wind Speed\"]"
   ]
  },
  {
   "cell_type": "markdown",
   "metadata": {},
   "source": [
    "## Inspect the data and remove the cities where the humidity > 100%.\n",
    "----\n",
    "Skip this step if there are no cities that have humidity > 100%. "
   ]
  },
  {
   "cell_type": "code",
   "execution_count": 9,
   "metadata": {},
   "outputs": [
    {
     "data": {
      "text/html": [
       "<div>\n",
       "<style scoped>\n",
       "    .dataframe tbody tr th:only-of-type {\n",
       "        vertical-align: middle;\n",
       "    }\n",
       "\n",
       "    .dataframe tbody tr th {\n",
       "        vertical-align: top;\n",
       "    }\n",
       "\n",
       "    .dataframe thead th {\n",
       "        text-align: right;\n",
       "    }\n",
       "</style>\n",
       "<table border=\"1\" class=\"dataframe\">\n",
       "  <thead>\n",
       "    <tr style=\"text-align: right;\">\n",
       "      <th></th>\n",
       "      <th>City</th>\n",
       "      <th>Lat</th>\n",
       "      <th>Lng</th>\n",
       "      <th>Max Temp</th>\n",
       "      <th>Humidity</th>\n",
       "      <th>Cloudiness</th>\n",
       "      <th>Wind Speed</th>\n",
       "      <th>Country</th>\n",
       "      <th>Date</th>\n",
       "    </tr>\n",
       "  </thead>\n",
       "  <tbody>\n",
       "    <tr>\n",
       "      <th>590</th>\n",
       "      <td>Cherskiy</td>\n",
       "      <td>68.7500</td>\n",
       "      <td>161.3000</td>\n",
       "      <td>-33.38</td>\n",
       "      <td>100</td>\n",
       "      <td>92</td>\n",
       "      <td>3.44</td>\n",
       "      <td>RU</td>\n",
       "      <td>1669060227</td>\n",
       "    </tr>\n",
       "    <tr>\n",
       "      <th>125</th>\n",
       "      <td>Tiksi</td>\n",
       "      <td>71.6872</td>\n",
       "      <td>128.8694</td>\n",
       "      <td>-23.01</td>\n",
       "      <td>100</td>\n",
       "      <td>84</td>\n",
       "      <td>3.40</td>\n",
       "      <td>RU</td>\n",
       "      <td>1669060048</td>\n",
       "    </tr>\n",
       "    <tr>\n",
       "      <th>117</th>\n",
       "      <td>Severnyy</td>\n",
       "      <td>50.6770</td>\n",
       "      <td>36.5532</td>\n",
       "      <td>33.84</td>\n",
       "      <td>100</td>\n",
       "      <td>100</td>\n",
       "      <td>11.18</td>\n",
       "      <td>RU</td>\n",
       "      <td>1669060045</td>\n",
       "    </tr>\n",
       "    <tr>\n",
       "      <th>127</th>\n",
       "      <td>Aykhal</td>\n",
       "      <td>66.0000</td>\n",
       "      <td>111.5000</td>\n",
       "      <td>-18.98</td>\n",
       "      <td>100</td>\n",
       "      <td>97</td>\n",
       "      <td>4.90</td>\n",
       "      <td>RU</td>\n",
       "      <td>1669060049</td>\n",
       "    </tr>\n",
       "    <tr>\n",
       "      <th>131</th>\n",
       "      <td>Mehamn</td>\n",
       "      <td>71.0357</td>\n",
       "      <td>27.8492</td>\n",
       "      <td>39.11</td>\n",
       "      <td>100</td>\n",
       "      <td>75</td>\n",
       "      <td>6.91</td>\n",
       "      <td>NO</td>\n",
       "      <td>1669059856</td>\n",
       "    </tr>\n",
       "    <tr>\n",
       "      <th>...</th>\n",
       "      <td>...</td>\n",
       "      <td>...</td>\n",
       "      <td>...</td>\n",
       "      <td>...</td>\n",
       "      <td>...</td>\n",
       "      <td>...</td>\n",
       "      <td>...</td>\n",
       "      <td>...</td>\n",
       "      <td>...</td>\n",
       "    </tr>\n",
       "    <tr>\n",
       "      <th>156</th>\n",
       "      <td>Bilma</td>\n",
       "      <td>18.6853</td>\n",
       "      <td>12.9164</td>\n",
       "      <td>71.46</td>\n",
       "      <td>14</td>\n",
       "      <td>30</td>\n",
       "      <td>10.69</td>\n",
       "      <td>NE</td>\n",
       "      <td>1669060060</td>\n",
       "    </tr>\n",
       "    <tr>\n",
       "      <th>292</th>\n",
       "      <td>Saint-Louis</td>\n",
       "      <td>16.3333</td>\n",
       "      <td>-15.0000</td>\n",
       "      <td>85.59</td>\n",
       "      <td>14</td>\n",
       "      <td>5</td>\n",
       "      <td>9.91</td>\n",
       "      <td>SN</td>\n",
       "      <td>1669060113</td>\n",
       "    </tr>\n",
       "    <tr>\n",
       "      <th>225</th>\n",
       "      <td>Arlit</td>\n",
       "      <td>18.7369</td>\n",
       "      <td>7.3853</td>\n",
       "      <td>76.68</td>\n",
       "      <td>12</td>\n",
       "      <td>100</td>\n",
       "      <td>10.11</td>\n",
       "      <td>NE</td>\n",
       "      <td>1669060085</td>\n",
       "    </tr>\n",
       "    <tr>\n",
       "      <th>229</th>\n",
       "      <td>Gao</td>\n",
       "      <td>16.6362</td>\n",
       "      <td>1.6370</td>\n",
       "      <td>77.52</td>\n",
       "      <td>10</td>\n",
       "      <td>100</td>\n",
       "      <td>9.46</td>\n",
       "      <td>ML</td>\n",
       "      <td>1669060087</td>\n",
       "    </tr>\n",
       "    <tr>\n",
       "      <th>316</th>\n",
       "      <td>Comodoro Rivadavia</td>\n",
       "      <td>-45.8667</td>\n",
       "      <td>-67.5000</td>\n",
       "      <td>82.26</td>\n",
       "      <td>8</td>\n",
       "      <td>0</td>\n",
       "      <td>14.97</td>\n",
       "      <td>AR</td>\n",
       "      <td>1669060125</td>\n",
       "    </tr>\n",
       "  </tbody>\n",
       "</table>\n",
       "<p>591 rows × 9 columns</p>\n",
       "</div>"
      ],
      "text/plain": [
       "                   City      Lat       Lng  Max Temp  Humidity  Cloudiness  \\\n",
       "590            Cherskiy  68.7500  161.3000    -33.38       100          92   \n",
       "125               Tiksi  71.6872  128.8694    -23.01       100          84   \n",
       "117            Severnyy  50.6770   36.5532     33.84       100         100   \n",
       "127              Aykhal  66.0000  111.5000    -18.98       100          97   \n",
       "131              Mehamn  71.0357   27.8492     39.11       100          75   \n",
       "..                  ...      ...       ...       ...       ...         ...   \n",
       "156               Bilma  18.6853   12.9164     71.46        14          30   \n",
       "292         Saint-Louis  16.3333  -15.0000     85.59        14           5   \n",
       "225               Arlit  18.7369    7.3853     76.68        12         100   \n",
       "229                 Gao  16.6362    1.6370     77.52        10         100   \n",
       "316  Comodoro Rivadavia -45.8667  -67.5000     82.26         8           0   \n",
       "\n",
       "     Wind Speed Country        Date  \n",
       "590        3.44      RU  1669060227  \n",
       "125        3.40      RU  1669060048  \n",
       "117       11.18      RU  1669060045  \n",
       "127        4.90      RU  1669060049  \n",
       "131        6.91      NO  1669059856  \n",
       "..          ...     ...         ...  \n",
       "156       10.69      NE  1669060060  \n",
       "292        9.91      SN  1669060113  \n",
       "225       10.11      NE  1669060085  \n",
       "229        9.46      ML  1669060087  \n",
       "316       14.97      AR  1669060125  \n",
       "\n",
       "[591 rows x 9 columns]"
      ]
     },
     "execution_count": 9,
     "metadata": {},
     "output_type": "execute_result"
    }
   ],
   "source": [
    "city_data.sort_values(by = ['Humidity'], ascending = False)"
   ]
  },
  {
   "cell_type": "code",
   "execution_count": 17,
   "metadata": {},
   "outputs": [
    {
     "data": {
      "text/plain": [
       "Int64Index([], dtype='int64')"
      ]
     },
     "execution_count": 17,
     "metadata": {},
     "output_type": "execute_result"
    }
   ],
   "source": [
    "#  Get the indices of cities that have humidity over 100%.\n"
   ]
  },
  {
   "cell_type": "code",
   "execution_count": 19,
   "metadata": {},
   "outputs": [
    {
     "data": {
      "text/html": [
       "<div>\n",
       "<style scoped>\n",
       "    .dataframe tbody tr th:only-of-type {\n",
       "        vertical-align: middle;\n",
       "    }\n",
       "\n",
       "    .dataframe tbody tr th {\n",
       "        vertical-align: top;\n",
       "    }\n",
       "\n",
       "    .dataframe thead th {\n",
       "        text-align: right;\n",
       "    }\n",
       "</style>\n",
       "<table border=\"1\" class=\"dataframe\">\n",
       "  <thead>\n",
       "    <tr style=\"text-align: right;\">\n",
       "      <th></th>\n",
       "      <th>City</th>\n",
       "      <th>Lat</th>\n",
       "      <th>Lng</th>\n",
       "      <th>Max Temp</th>\n",
       "      <th>Humidity</th>\n",
       "      <th>Cloudiness</th>\n",
       "      <th>Wind Speed</th>\n",
       "      <th>Country</th>\n",
       "      <th>Date</th>\n",
       "    </tr>\n",
       "  </thead>\n",
       "  <tbody>\n",
       "    <tr>\n",
       "      <td>0</td>\n",
       "      <td>butaritari</td>\n",
       "      <td>3.07</td>\n",
       "      <td>172.79</td>\n",
       "      <td>83.32</td>\n",
       "      <td>74</td>\n",
       "      <td>84</td>\n",
       "      <td>10.42</td>\n",
       "      <td>KI</td>\n",
       "      <td>1593605283</td>\n",
       "    </tr>\n",
       "    <tr>\n",
       "      <td>1</td>\n",
       "      <td>yerbogachen</td>\n",
       "      <td>61.28</td>\n",
       "      <td>108.01</td>\n",
       "      <td>79.52</td>\n",
       "      <td>58</td>\n",
       "      <td>20</td>\n",
       "      <td>7.70</td>\n",
       "      <td>RU</td>\n",
       "      <td>1593605121</td>\n",
       "    </tr>\n",
       "    <tr>\n",
       "      <td>2</td>\n",
       "      <td>cape town</td>\n",
       "      <td>-33.93</td>\n",
       "      <td>18.42</td>\n",
       "      <td>73.00</td>\n",
       "      <td>77</td>\n",
       "      <td>27</td>\n",
       "      <td>4.70</td>\n",
       "      <td>ZA</td>\n",
       "      <td>1593605039</td>\n",
       "    </tr>\n",
       "    <tr>\n",
       "      <td>3</td>\n",
       "      <td>touba</td>\n",
       "      <td>8.28</td>\n",
       "      <td>-7.68</td>\n",
       "      <td>79.97</td>\n",
       "      <td>75</td>\n",
       "      <td>82</td>\n",
       "      <td>3.58</td>\n",
       "      <td>CI</td>\n",
       "      <td>1593605284</td>\n",
       "    </tr>\n",
       "    <tr>\n",
       "      <td>4</td>\n",
       "      <td>jamestown</td>\n",
       "      <td>42.10</td>\n",
       "      <td>-79.24</td>\n",
       "      <td>64.00</td>\n",
       "      <td>88</td>\n",
       "      <td>1</td>\n",
       "      <td>6.93</td>\n",
       "      <td>US</td>\n",
       "      <td>1593605284</td>\n",
       "    </tr>\n",
       "  </tbody>\n",
       "</table>\n",
       "</div>"
      ],
      "text/plain": [
       "          City    Lat     Lng  Max Temp  Humidity  Cloudiness  Wind Speed  \\\n",
       "0   butaritari   3.07  172.79     83.32        74          84       10.42   \n",
       "1  yerbogachen  61.28  108.01     79.52        58          20        7.70   \n",
       "2    cape town -33.93   18.42     73.00        77          27        4.70   \n",
       "3        touba   8.28   -7.68     79.97        75          82        3.58   \n",
       "4    jamestown  42.10  -79.24     64.00        88           1        6.93   \n",
       "\n",
       "  Country        Date  \n",
       "0      KI  1593605283  \n",
       "1      RU  1593605121  \n",
       "2      ZA  1593605039  \n",
       "3      CI  1593605284  \n",
       "4      US  1593605284  "
      ]
     },
     "execution_count": 19,
     "metadata": {},
     "output_type": "execute_result"
    }
   ],
   "source": [
    "# Make a new DataFrame equal to the city data to drop all humidity outliers by index.\n",
    "# Passing \"inplace=False\" will make a copy of the city_data DataFrame, which we call \"clean_city_data\".\n"
   ]
  },
  {
   "cell_type": "code",
   "execution_count": null,
   "metadata": {},
   "outputs": [],
   "source": [
    "\n"
   ]
  },
  {
   "cell_type": "markdown",
   "metadata": {},
   "source": [
    "## Plotting the Data\n",
    "* Use proper labeling of the plots using plot titles (including date of analysis) and axes labels.\n",
    "* Save the plotted figures as .pngs."
   ]
  },
  {
   "cell_type": "markdown",
   "metadata": {},
   "source": [
    "## Latitude vs. Temperature Plot"
   ]
  },
  {
   "cell_type": "code",
   "execution_count": 12,
   "metadata": {
    "scrolled": true
   },
   "outputs": [
    {
     "data": {
      "image/png": "[encoded data removed]",
      "text/plain": [
       "<Figure size 576x504 with 1 Axes>"
      ]
     },
     "metadata": {
      "needs_background": "light"
     },
     "output_type": "display_data"
    }
   ],
   "source": [
    "plt.figure(figsize=(8,7))\n",
    "\n",
    "plt.scatter(lat, max_temp, linewidths=1, marker=\"o\")\n",
    "\n",
    "plt.title(\"City Latitude vs. Max Temperature (%s)\" % time.strftime(\"%x\"))\n",
    "plt.xlabel(\"Latitude\")\n",
    "plt.ylabel(\"Max Temperature (F)\")\n",
    "plt.grid(True)\n",
    "\n",
    "plt.show()"
   ]
  },
  {
   "cell_type": "markdown",
   "metadata": {},
   "source": [
    "## Latitude vs. Humidity Plot"
   ]
  },
  {
   "cell_type": "code",
   "execution_count": 13,
   "metadata": {},
   "outputs": [
    {
     "data": {
      "image/png": "[encoded data removed]",
      "text/plain": [
       "<Figure size 576x504 with 1 Axes>"
      ]
     },
     "metadata": {
      "needs_background": "light"
     },
     "output_type": "display_data"
    }
   ],
   "source": [
    "plt.figure(figsize=(8,7))\n",
    "           \n",
    "plt.scatter(lat, humidity, linewidths=1, marker=\"o\")\n",
    "           \n",
    "plt.title(\"City Latitude vs. Humidity (%s)\" % time.strftime(\"%x\"))\n",
    "plt.xlabel(\"Latitude\")\n",
    "plt.ylabel(\"Humidity (%)\")\n",
    "plt.grid(True)\n",
    "\n",
    "plt.show()"
   ]
  },
  {
   "cell_type": "markdown",
   "metadata": {},
   "source": [
    "## Latitude vs. Cloudiness Plot"
   ]
  },
  {
   "cell_type": "code",
   "execution_count": 14,
   "metadata": {},
   "outputs": [
    {
     "data": {
      "image/png": "[encoded data removed]",
      "text/plain": [
       "<Figure size 576x504 with 1 Axes>"
      ]
     },
     "metadata": {
      "needs_background": "light"
     },
     "output_type": "display_data"
    }
   ],
   "source": [
    "plt.figure(figsize=(8,7))\n",
    "\n",
    "plt.scatter(lat, cloudiness, linewidths=1, marker=\"o\")\n",
    "\n",
    "plt.title(\"City Latitude vs. Cloudiness (%s)\" % time.strftime(\"%x\"))\n",
    "plt.xlabel(\"Latitude\")\n",
    "plt.ylabel(\"Cloudiness (%)\")\n",
    "plt.grid(True)\n",
    "\n",
    "plt.show()"
   ]
  },
  {
   "cell_type": "markdown",
   "metadata": {},
   "source": [
    "## Latitude vs. Wind Speed Plot"
   ]
  },
  {
   "cell_type": "code",
   "execution_count": 15,
   "metadata": {},
   "outputs": [
    {
     "data": {
      "image/png": "[encoded data removed]",
      "text/plain": [
       "<Figure size 576x504 with 1 Axes>"
      ]
     },
     "metadata": {
      "needs_background": "light"
     },
     "output_type": "display_data"
    }
   ],
   "source": [
    "plt.figure(figsize=(8,7))\n",
    "\n",
    "plt.scatter(lat, wind_speed, linewidths=1, marker=\"o\")\n",
    "\n",
    "plt.title(\"City Latitude vs. Wind Speed (%s)\" % time.strftime(\"%x\"))\n",
    "plt.xlabel(\"Latitude\")\n",
    "plt.ylabel(\"Wind Speed (mph)\")\n",
    "plt.grid(True)\n",
    "\n",
    "plt.show()"
   ]
  },
  {
   "cell_type": "markdown",
   "metadata": {},
   "source": [
    "## Linear Regression"
   ]
  },
  {
   "cell_type": "code",
   "execution_count": 16,
   "metadata": {},
   "outputs": [],
   "source": [
    "nothern_hemisphere = city_data.loc[city_data[\"Lat\"] >= 0.0]\n",
    "nothern_hemisphere.reset_index(inplace=True)\n",
    "\n",
    "southern_hemisphere = city_data.loc[city_data[\"Lat\"] < 0.0]\n",
    "southern_hemisphere.reset_index(inplace=True)"
   ]
  },
  {
   "cell_type": "markdown",
   "metadata": {},
   "source": [
    "####  Northern Hemisphere - Max Temp vs. Latitude Linear Regression"
   ]
  },
  {
   "cell_type": "code",
   "execution_count": 37,
   "metadata": {},
   "outputs": [
    {
     "name": "stdout",
     "output_type": "stream",
     "text": [
      "The r-squared is: -0.8655827656206622\n"
     ]
    },
    {
     "data": {
      "image/png": "[encoded data removed]",
      "text/plain": [
       "<Figure size 432x288 with 1 Axes>"
      ]
     },
     "metadata": {
      "needs_background": "light"
     },
     "output_type": "display_data"
    }
   ],
   "source": [
    "def plotLinearRegression(xdata,ydata,xlabel,ylabel,labelpos,ifig):\n",
    "    (slope, intercept, rvalue, pvalue, stderr) = linregress(xdata, ydata)\n",
    "    print(f\"The r-squared is: {rvalue}\")\n",
    "    regress_values = xdata * slope + intercept\n",
    "    line_eq = \"y = \" + str(round(slope,2)) + \"x + \" + str(round(intercept,2))\n",
    "\n",
    "    plt.scatter(xdata,ydata)\n",
    "    plt.plot(xdata,regress_values,\"r-\")\n",
    "    plt.annotate(line_eq,labelpos,fontsize=15,color=\"red\")\n",
    "    plt.xlabel(xlabel)\n",
    "    plt.ylabel(ylabel)\n",
    "    \n",
    "    \n",
    "xlabel = \"Lat\"\n",
    "ylabel = \"Max Temp\"\n",
    "labelpos = (0,0)\n",
    "\n",
    "plotLinearRegression(nothern_hemisphere[xlabel],nothern_hemisphere[ylabel],xlabel,ylabel,labelpos,5)\n",
    "\n",
    "plt.show()    "
   ]
  },
  {
   "cell_type": "markdown",
   "metadata": {},
   "source": [
    "####  Southern Hemisphere - Max Temp vs. Latitude Linear Regression"
   ]
  },
  {
   "cell_type": "code",
   "execution_count": 36,
   "metadata": {},
   "outputs": [
    {
     "name": "stdout",
     "output_type": "stream",
     "text": [
      "The r-squared is: 0.6557411998293918\n"
     ]
    },
    {
     "data": {
      "image/png": "[encoded data removed]",
      "text/plain": [
       "<Figure size 432x288 with 1 Axes>"
      ]
     },
     "metadata": {
      "needs_background": "light"
     },
     "output_type": "display_data"
    }
   ],
   "source": [
    "xlabel = \"Lat\"\n",
    "ylabel = \"Max Temp\"\n",
    "labelpos = (-56,88)\n",
    "\n",
    "plotLinearRegression(southern_hemisphere[xlabel],southern_hemisphere[ylabel],xlabel,ylabel,labelpos,6)\n",
    "\n",
    "plt.show()"
   ]
  },
  {
   "cell_type": "markdown",
   "metadata": {},
   "source": [
    "####  Northern Hemisphere - Humidity (%) vs. Latitude Linear Regression"
   ]
  },
  {
   "cell_type": "code",
   "execution_count": 35,
   "metadata": {},
   "outputs": [
    {
     "name": "stdout",
     "output_type": "stream",
     "text": [
      "The r-squared is: 0.408865757335513\n"
     ]
    },
    {
     "data": {
      "image/png": "[encoded data removed]",
      "text/plain": [
       "<Figure size 432x288 with 1 Axes>"
      ]
     },
     "metadata": {
      "needs_background": "light"
     },
     "output_type": "display_data"
    }
   ],
   "source": [
    "xlabel = \"Lat\"\n",
    "ylabel = \"Humidity\"\n",
    "labelpos = (42,15)\n",
    "\n",
    "plotLinearRegression(nothern_hemisphere[xlabel],nothern_hemisphere[ylabel],xlabel,ylabel,labelpos,7)\n",
    "\n",
    "plt.show()"
   ]
  },
  {
   "cell_type": "markdown",
   "metadata": {},
   "source": [
    "####  Southern Hemisphere - Humidity (%) vs. Latitude Linear Regression"
   ]
  },
  {
   "cell_type": "code",
   "execution_count": 34,
   "metadata": {},
   "outputs": [
    {
     "name": "stdout",
     "output_type": "stream",
     "text": [
      "The r-squared is: 0.3089695939564864\n"
     ]
    },
    {
     "data": {
      "image/png": "[encoded data removed]",
      "text/plain": [
       "<Figure size 432x288 with 1 Axes>"
      ]
     },
     "metadata": {
      "needs_background": "light"
     },
     "output_type": "display_data"
    }
   ],
   "source": [
    "xlabel = \"Lat\"\n",
    "ylabel = \"Humidity\"\n",
    "labelpos = (-55,10)\n",
    "\n",
    "plotLinearRegression(southern_hemisphere[xlabel],southern_hemisphere[ylabel],xlabel,ylabel,labelpos,8)\n",
    "\n",
    "plt.show()"
   ]
  },
  {
   "cell_type": "markdown",
   "metadata": {},
   "source": [
    "####  Northern Hemisphere - Cloudiness (%) vs. Latitude Linear Regression"
   ]
  },
  {
   "cell_type": "code",
   "execution_count": 44,
   "metadata": {},
   "outputs": [
    {
     "name": "stdout",
     "output_type": "stream",
     "text": [
      "The r-squared is: 0.258475144712857\n"
     ]
    },
    {
     "data": {
      "image/png": "[encoded data removed]",
      "text/plain": [
       "<Figure size 432x288 with 1 Axes>"
      ]
     },
     "metadata": {
      "needs_background": "light"
     },
     "output_type": "display_data"
    }
   ],
   "source": [
    "xlabel = \"Lat\"\n",
    "ylabel = \"Cloudiness\"\n",
    "labelpos = (45,27)\n",
    "\n",
    "plotLinearRegression(nothern_hemisphere[xlabel],nothern_hemisphere[ylabel],xlabel,ylabel,labelpos,9)\n",
    "\n",
    "plt.show()"
   ]
  },
  {
   "cell_type": "markdown",
   "metadata": {},
   "source": [
    "####  Southern Hemisphere - Cloudiness (%) vs. Latitude Linear Regression"
   ]
  },
  {
   "cell_type": "code",
   "execution_count": 46,
   "metadata": {},
   "outputs": [
    {
     "name": "stdout",
     "output_type": "stream",
     "text": [
      "The r-squared is: 0.19019013193900847\n"
     ]
    },
    {
     "data": {
      "image/png": "[encoded data removed]",
      "text/plain": [
       "<Figure size 432x288 with 1 Axes>"
      ]
     },
     "metadata": {
      "needs_background": "light"
     },
     "output_type": "display_data"
    }
   ],
   "source": [
    "xlabel = \"Lat\"\n",
    "ylabel = \"Cloudiness\"\n",
    "labelpos = (-55,30)\n",
    "\n",
    "plotLinearRegression(southern_hemisphere[xlabel],southern_hemisphere[ylabel],xlabel,ylabel,labelpos,10)\n",
    "\n",
    "plt.show()"
   ]
  },
  {
   "cell_type": "markdown",
   "metadata": {},
   "source": [
    "####  Northern Hemisphere - Wind Speed (mph) vs. Latitude Linear Regression"
   ]
  },
  {
   "cell_type": "code",
   "execution_count": 49,
   "metadata": {},
   "outputs": [
    {
     "name": "stdout",
     "output_type": "stream",
     "text": [
      "The r-squared is: 0.03597236374537804\n"
     ]
    },
    {
     "data": {
      "image/png": "[encoded data removed]",
      "text/plain": [
       "<Figure size 432x288 with 1 Axes>"
      ]
     },
     "metadata": {
      "needs_background": "light"
     },
     "output_type": "display_data"
    }
   ],
   "source": [
    "xlabel = \"Lat\"\n",
    "ylabel = \"Wind Speed\"\n",
    "labelpos = (0,29)\n",
    "\n",
    "plotLinearRegression(nothern_hemisphere[xlabel],nothern_hemisphere[ylabel],xlabel,ylabel,labelpos,11)\n",
    "\n",
    "plt.show()"
   ]
  },
  {
   "cell_type": "markdown",
   "metadata": {},
   "source": [
    "####  Southern Hemisphere - Wind Speed (mph) vs. Latitude Linear Regression"
   ]
  },
  {
   "cell_type": "code",
   "execution_count": 52,
   "metadata": {},
   "outputs": [
    {
     "name": "stdout",
     "output_type": "stream",
     "text": [
      "The r-squared is: -0.35982317099290756\n"
     ]
    },
    {
     "data": {
      "image/png": "[encoded data removed]",
      "text/plain": [
       "<Figure size 432x288 with 1 Axes>"
      ]
     },
     "metadata": {
      "needs_background": "light"
     },
     "output_type": "display_data"
    }
   ],
   "source": [
    "xlabel = \"Lat\"\n",
    "ylabel = \"Wind Speed\"\n",
    "labelpos = (-23,20)\n",
    "\n",
    "plotLinearRegression(southern_hemisphere[xlabel],southern_hemisphere[ylabel],xlabel,ylabel,labelpos,12)\n",
    "\n",
    "plt.show()"
   ]
  }
 ],
 "metadata": {
  "anaconda-cloud": {},
  "kernel_info": {
   "name": "python3"
  },
  "kernelspec": {
   "display_name": "Python 3 (ipykernel)",
   "language": "python",
   "name": "python3"
  },
  "language_info": {
   "codemirror_mode": {
    "name": "ipython",
    "version": 3
   },
   "file_extension": ".py",
   "mimetype": "text/x-python",
   "name": "python",
   "nbconvert_exporter": "python",
   "pygments_lexer": "ipython3",
   "version": "3.7.7"
  },
  "latex_envs": {
   "LaTeX_envs_menu_present": true,
   "autoclose": false,
   "autocomplete": true,
   "bibliofile": "biblio.bib",
   "cite_by": "apalike",
   "current_citInitial": 1,
   "eqLabelWithNumbers": true,
   "eqNumInitial": 1,
   "hotkeys": {
    "equation": "Ctrl-E",
    "itemize": "Ctrl-I"
   },
   "labels_anchors": false,
   "latex_user_defs": false,
   "report_style_numbering": false,
   "user_envs_cfg": false
  },
  "nteract": {
   "version": "0.12.3"
  }
 },
 "nbformat": 4,
 "nbformat_minor": 2
}
